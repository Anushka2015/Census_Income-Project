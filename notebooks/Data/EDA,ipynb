import pandas as pd
import numpy as np
import matplotlib.pyplot as plt
%matplotlib inline
import seaborn as sns
# Display all the colunm of the dataframes
pd.pandas.set_option("display.max_columns",None)